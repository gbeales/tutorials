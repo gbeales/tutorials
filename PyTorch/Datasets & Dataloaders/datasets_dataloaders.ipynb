{
 "cells": [
  {
   "cell_type": "code",
   "execution_count": 1,
   "metadata": {},
   "outputs": [],
   "source": [
    "%matplotlib inline"
   ]
  },
  {
   "cell_type": "markdown",
   "metadata": {},
   "source": [
    "# Datasets & Dataloaders\r\n",
    "Code for processing data samples can get messy and hard to maintain; we ideally want our dataset code to be decoupled from our model training code for better readability and modularity.  PyTorch provides two data primitives: `torch.utils.data.DataLoader` and `torch.utils.data.Dataset` that allow you to use pre-loaded datasets (why?) as well as your own data.  `Dataset` stores the samples and their corresponding labels, and `DataLoader` wraps an iterable around the `Dataset` to enable easy access to the samples.\r\n",
    "\r\n",
    "PyTorch domain libraries provide a number of pre-loaded datasets (such as Fashion MNIST--used in this tutorial) that subclass `torch.utils.data.Dataset` and implement functions specific to the particular data (sounds ... weird?).  They can be used to prototype and benchark a model."
   ]
  },
  {
   "cell_type": "markdown",
   "metadata": {},
   "source": [
    "## Loading a Dataset\r\n",
    "Here is an example of how to load the Fashion-MNIST dataset from TorchVision.  Fashion-MNIST is a dataset of Zalando's article images consisting of 60,000 training examples and 10,000 test examples.  Each example comprises a 28x28 greyscale image and an associated label from one of 10 classes.\r\n",
    "\r\n",
    "We load it with the following parameters:\r\n",
    "- `root` is the path where the data is stored\r\n",
    "- `train` specifies training or test dataset  (mostly specifies which ones to download)\r\n",
    "- `download=True` downloads the data from the internet if it's not available at `root`\r\n",
    "- `transform` and `target_transform` specify the feature and label transformations (?  Next tutorial?)"
   ]
  },
  {
   "cell_type": "code",
   "execution_count": 2,
   "metadata": {},
   "outputs": [
    {
     "name": "stdout",
     "output_type": "stream",
     "text": [
      "Downloading http://fashion-mnist.s3-website.eu-central-1.amazonaws.com/train-images-idx3-ubyte.gz\n",
      "Downloading http://fashion-mnist.s3-website.eu-central-1.amazonaws.com/train-images-idx3-ubyte.gz to data\\FashionMNIST\\raw\\train-images-idx3-ubyte.gz\n"
     ]
    },
    {
     "name": "stderr",
     "output_type": "stream",
     "text": [
      "26422272it [00:50, 525272.58it/s]                              \n"
     ]
    },
    {
     "name": "stdout",
     "output_type": "stream",
     "text": [
      "Extracting data\\FashionMNIST\\raw\\train-images-idx3-ubyte.gz to data\\FashionMNIST\\raw\n",
      "\n",
      "Downloading http://fashion-mnist.s3-website.eu-central-1.amazonaws.com/train-labels-idx1-ubyte.gz\n",
      "Downloading http://fashion-mnist.s3-website.eu-central-1.amazonaws.com/train-labels-idx1-ubyte.gz to data\\FashionMNIST\\raw\\train-labels-idx1-ubyte.gz\n"
     ]
    },
    {
     "name": "stderr",
     "output_type": "stream",
     "text": [
      "29696it [00:00, 31351.68it/s]                          \n"
     ]
    },
    {
     "name": "stdout",
     "output_type": "stream",
     "text": [
      "Extracting data\\FashionMNIST\\raw\\train-labels-idx1-ubyte.gz to data\\FashionMNIST\\raw\n",
      "\n",
      "Downloading http://fashion-mnist.s3-website.eu-central-1.amazonaws.com/t10k-images-idx3-ubyte.gz\n",
      "Downloading http://fashion-mnist.s3-website.eu-central-1.amazonaws.com/t10k-images-idx3-ubyte.gz to data\\FashionMNIST\\raw\\t10k-images-idx3-ubyte.gz\n"
     ]
    },
    {
     "name": "stderr",
     "output_type": "stream",
     "text": [
      "4422656it [00:04, 899375.35it/s]                             \n"
     ]
    },
    {
     "name": "stdout",
     "output_type": "stream",
     "text": [
      "Extracting data\\FashionMNIST\\raw\\t10k-images-idx3-ubyte.gz to data\\FashionMNIST\\raw\n",
      "\n",
      "Downloading http://fashion-mnist.s3-website.eu-central-1.amazonaws.com/t10k-labels-idx1-ubyte.gz\n",
      "Downloading http://fashion-mnist.s3-website.eu-central-1.amazonaws.com/t10k-labels-idx1-ubyte.gz to data\\FashionMNIST\\raw\\t10k-labels-idx1-ubyte.gz\n"
     ]
    },
    {
     "name": "stderr",
     "output_type": "stream",
     "text": [
      "6144it [00:00, 2076368.04it/s]          \n",
      "C:\\Users\\gbeales\\Miniconda3\\envs\\pytorch_tutorials\\lib\\site-packages\\torchvision\\datasets\\mnist.py:502: UserWarning: The given NumPy array is not writeable, and PyTorch does not support non-writeable tensors. This means you can write to the underlying (supposedly non-writeable) NumPy array using the tensor. You may want to copy the array to protect its data or make it writeable before converting it to a tensor. This type of warning will be suppressed for the rest of this program. (Triggered internally at  ..\\torch\\csrc\\utils\\tensor_numpy.cpp:143.)\n",
      "  return torch.from_numpy(parsed.astype(m[2], copy=False)).view(*s)\n"
     ]
    },
    {
     "name": "stdout",
     "output_type": "stream",
     "text": [
      "Extracting data\\FashionMNIST\\raw\\t10k-labels-idx1-ubyte.gz to data\\FashionMNIST\\raw\n",
      "\n",
      "Processing...\n",
      "Done!\n"
     ]
    }
   ],
   "source": [
    "import torch\r\n",
    "from torch.utils.data import Dataset\r\n",
    "from torchvision import datasets\r\n",
    "from torchvision.transforms import ToTensor\r\n",
    "import matplotlib.pyplot as plt\r\n",
    "\r\n",
    "training_data = datasets.FashionMNIST(\r\n",
    "    root=\"data\",\r\n",
    "    train=True,\r\n",
    "    download=True,\r\n",
    "    transform=ToTensor()\r\n",
    ")\r\n",
    "\r\n",
    "test_data = datasets.FashionMNIST(\r\n",
    "    root=\"data\",\r\n",
    "    train=False,\r\n",
    "    download=True,\r\n",
    "    transform=ToTensor()\r\n",
    ")"
   ]
  },
  {
   "cell_type": "markdown",
   "metadata": {},
   "source": [
    "## Iterating and Visualizing the Dataset\r\n",
    "`Datasets` can be indexed manually like a list.  e.g. `training_data[index]`.  We use matplotlib to visualize some samples"
   ]
  },
  {
   "cell_type": "code",
   "execution_count": 3,
   "metadata": {},
   "outputs": [
    {
     "data": {
      "image/png": "[encoded data removed]",
      "text/plain": "<Figure size 576x576 with 9 Axes>"
     },
     "metadata": {
      "needs_background": "light"
     },
     "output_type": "display_data"
    }
   ],
   "source": [
    "labels_map = {\r\n",
    "    0: \"T-Shirt\",\r\n",
    "    1: \"Trouser\",\r\n",
    "    2: \"Pullover\",\r\n",
    "    3: \"Dress\",\r\n",
    "    4: \"Coat\",\r\n",
    "    5: \"Sandal\",\r\n",
    "    6: \"Shirt\",\r\n",
    "    7: \"Sneaker\",\r\n",
    "    8: \"Bag\",\r\n",
    "    9: \"Ankle Boot\"\r\n",
    "}\r\n",
    "figure = plt.figure(figsize=(8,8))\r\n",
    "cols, rows = 3,3\r\n",
    "for i in range(1, cols * rows + 1):\r\n",
    "    sample_idx = torch.randint(len(training_data), size=(1,)).item()\r\n",
    "    img, label = training_data[sample_idx]\r\n",
    "    figure.add_subplot(rows, cols, i)\r\n",
    "    plt.title(labels_map[label])\r\n",
    "    plt.axis(\"off\")\r\n",
    "    plt.imshow(img.squeeze(), cmap=\"gray\")\r\n",
    "plt.show()"
   ]
  },
  {
   "cell_type": "markdown",
   "metadata": {},
   "source": [
    "## Creating a Custom Dataset for your files (more useful!)\r\n",
    "A custom Dataset class must implement three functions: `__init__`, `__len__`, and `__getitem__`.  Take a look a tthis implementation; the FashionMNIST images are stored in a directory `img_dir`, and teir labels are stored separately in a CSV file `annotations_file`.\r\n",
    "\r\n",
    "We'll break down what's happening in each of these:"
   ]
  },
  {
   "cell_type": "code",
   "execution_count": 5,
   "metadata": {},
   "outputs": [],
   "source": [
    "import os\r\n",
    "import pandas as pd\r\n",
    "from torchvision.io import read_image\r\n",
    "\r\n",
    "class CustomImageDataset(Dataset):\r\n",
    "    def __init__(self, annotations_file, img_dir, transform=None, target_transform=None):\r\n",
    "        self.img_labels = pd.read_csv(annotations_file)\r\n",
    "        self.img_dir = img_dir\r\n",
    "        self.transform = transforms\r\n",
    "        self.target_transform = target_transform\r\n",
    "\r\n",
    "    def __len__(self):\r\n",
    "        return len(self.img_labels)\r\n",
    "\r\n",
    "    def __getitem__(self, idx):\r\n",
    "        img_path = os.path.join(self.img_dir, self.img_labels.iloc[idx, 0])\r\n",
    "        image = read_image(img_path)\r\n",
    "        label = self.img_labels.iloc[idx, 1]\r\n",
    "        if self.transform:\r\n",
    "            image = self.transform(image)\r\n",
    "        if self.target_transform:\r\n",
    "            label = self.target_transform(label)\r\n",
    "        sample = {\"image\": image, \"label\": label}\r\n",
    "        return sample"
   ]
  },
  {
   "cell_type": "markdown",
   "metadata": {},
   "source": [
    "`__init__`\r\n",
    "---------------\r\n",
    "The `__init__` function is run once when instantiating the Dataset object.  We initialize the directory containing the images (what? No they don't--it's just saved), the annotations file, and both transforms.\r\n",
    "\r\n",
    "The labels.csv file looks like:\r\n",
    "```\r\n",
    "tshirt1.jpg, 0\r\n",
    "tshirt2.jpg, 0\r\n",
    ".....\r\n",
    "ankleboot999.jpg, 9\r\n",
    "```"
   ]
  },
  {
   "cell_type": "markdown",
   "metadata": {},
   "source": [
    "`__len__`\r\n",
    "--------------------\r\n",
    "The `__len__` function returns the number of samples in our dataset."
   ]
  },
  {
   "cell_type": "markdown",
   "metadata": {},
   "source": [
    "`__getitem__`\r\n",
    "-----------------------------\r\n",
    "The `__getitem__` function loads and returns a sample from the dataset at the given index idx.  Based on the index, it identifies the image's location on disk, converts that to a tensor using read_image, retrieves the corresponding label from the csv data in self.img_labels, calls the transform functions on them (if applicable), and returns the tensor image and corresponding label in a dictionary"
   ]
  },
  {
   "cell_type": "markdown",
   "metadata": {},
   "source": [
    "--------------------------\r\n",
    "Preparing your data for training with DataLoaders\r\n",
    "---------------------------------------------------\r\n",
    "The `Dataset` retrieves our dataset's features and labels one sample at a time.  While training a model, we typically want to pass samples in \"minibatches\", reshuffle the data at every epoch to reduce model overfitting, and use Python's `multiprocesing` to speed up data retieval.\r\n",
    "\r\n",
    "`DataLoader` is an iterable that abstracts this complexity for us in an easy API."
   ]
  },
  {
   "cell_type": "code",
   "execution_count": 6,
   "metadata": {},
   "outputs": [],
   "source": [
    "from torch.utils.data import DataLoader\r\n",
    "\r\n",
    "train_dataloader = DataLoader(training_data, batch_size=64, shuffle=True)\r\n",
    "test_dataloader = DataLoader(test_data, batch_size=64, shuffle=True)"
   ]
  },
  {
   "cell_type": "markdown",
   "metadata": {},
   "source": [
    "## Iterate through the DataLoader\r\n",
    "We have loaded that dataset into the `Dataloader` and can iterate through the dataset as needed.  Each iteration below returns a batch of `train_features` and `train_labels` (containing `batch_size=64` features and labels respectively).  Because we specified `shuffle=True`, after we iterate over all the batches the data is shuffled (for finer-grained control over the data loading order, take a look at `Samplers`)."
   ]
  },
  {
   "cell_type": "code",
   "execution_count": 13,
   "metadata": {},
   "outputs": [
    {
     "name": "stdout",
     "output_type": "stream",
     "text": [
      "Feature batch shape: torch.Size([64, 1, 28, 28])\n",
      "Labels batch shape: torch.Size([64])\n"
     ]
    },
    {
     "data": {
      "image/png": "[encoded data removed]",
      "text/plain": "<Figure size 432x288 with 1 Axes>"
     },
     "metadata": {
      "needs_background": "light"
     },
     "output_type": "display_data"
    },
    {
     "name": "stdout",
     "output_type": "stream",
     "text": [
      "Label: T-Shirt\n"
     ]
    }
   ],
   "source": [
    "# Display image and label.\r\n",
    "train_features, train_labels = next(iter(train_dataloader))\r\n",
    "print(f\"Feature batch shape: {train_features.size()}\")\r\n",
    "print(f\"Labels batch shape: {train_labels.size()}\")\r\n",
    "img = train_features[0].squeeze()\r\n",
    "label = train_labels[0]\r\n",
    "plt.imshow(img, cmap=\"gray\")\r\n",
    "plt.show()\r\n",
    "print(f\"Label: {labels_map[label.item()]}\")"
   ]
  },
  {
   "cell_type": "code",
   "execution_count": null,
   "metadata": {},
   "outputs": [],
   "source": []
  },
  {
   "cell_type": "code",
   "execution_count": null,
   "metadata": {},
   "outputs": [],
   "source": []
  }
 ],
 "metadata": {
  "interpreter": {
   "hash": "b0a10ce0df86bd47f20d28ed217e21e989a0ba99322e6d590bf6db2a306ca8d1"
  },
  "kernelspec": {
   "display_name": "Python 3.8.8 64-bit ('pytorch_tutorials': conda)",
   "name": "python3"
  },
  "language_info": {
   "codemirror_mode": {
    "name": "ipython",
    "version": 3
   },
   "file_extension": ".py",
   "mimetype": "text/x-python",
   "name": "python",
   "nbconvert_exporter": "python",
   "pygments_lexer": "ipython3",
   "version": "3.8.8"
  },
  "orig_nbformat": 2
 },
 "nbformat": 4,
 "nbformat_minor": 2
}